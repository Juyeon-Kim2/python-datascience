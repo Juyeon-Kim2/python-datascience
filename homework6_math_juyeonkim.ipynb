{
 "cells": [
  {
   "cell_type": "code",
   "execution_count": 16,
   "id": "91437059",
   "metadata": {},
   "outputs": [],
   "source": [
    "import pandas as pd \n",
    "import numpy as np\n",
    "from sklearn.model_selection import train_test_split\n",
    "from sklearn.tree import DecisionTreeClassifier\n",
    "from sklearn.metrics import accuracy_score\n",
    "import random\n",
    "import matplotlib.pyplot as plt\n",
    "from sklearn import tree"
   ]
  },
  {
   "cell_type": "code",
   "execution_count": 17,
   "id": "ab94b959",
   "metadata": {},
   "outputs": [],
   "source": [
    "df=pd.read_csv(\"breast-cancer-wisconsin.data\",header=None)"
   ]
  },
  {
   "cell_type": "code",
   "execution_count": 18,
   "id": "91c41b93",
   "metadata": {},
   "outputs": [],
   "source": [
    "df=df.drop(df.columns[[0]],axis=1)\n",
    "df=df[pd.to_numeric(df[6], errors='coerce').notnull()]"
   ]
  },
  {
   "cell_type": "code",
   "execution_count": 19,
   "id": "fb111ce4",
   "metadata": {},
   "outputs": [],
   "source": [
    "X=df.drop(df.columns[[9]],axis=1)\n",
    "Y=df[10]"
   ]
  },
  {
   "cell_type": "code",
   "execution_count": 20,
   "id": "4cf883e7",
   "metadata": {},
   "outputs": [],
   "source": [
    "m_depth=[2,4,6,8]\n",
    "ms_leap=[5,10,20]\n",
    "crit=[\"gini\",\"entropy\"]"
   ]
  },
  {
   "cell_type": "markdown",
   "id": "ee83d8e5",
   "metadata": {},
   "source": [
    "# problem1 find all combinations results and fit the model and plot the tree "
   ]
  },
  {
   "cell_type": "code",
   "execution_count": 21,
   "id": "623256ed",
   "metadata": {},
   "outputs": [
    {
     "name": "stdout",
     "output_type": "stream",
     "text": [
      "2,  5, gini      ,  0.9562043795620438\n",
      "2,  5, entropy   ,  0.9635036496350365\n",
      "2, 10, gini      ,  0.9562043795620438\n",
      "2, 10, entropy   ,  0.9635036496350365\n",
      "2, 20, gini      ,  0.9562043795620438\n",
      "2, 20, entropy   ,  0.9708029197080292\n",
      "4,  5, gini      ,  0.9781021897810219\n",
      "4,  5, entropy   ,  0.9708029197080292\n",
      "4, 10, gini      ,  0.9854014598540146\n",
      "4, 10, entropy   ,  0.9635036496350365\n",
      "4, 20, gini      ,  0.9854014598540146\n",
      "4, 20, entropy   ,  0.9708029197080292\n",
      "6,  5, gini      ,  0.9781021897810219\n",
      "6,  5, entropy   ,  0.9708029197080292\n",
      "6, 10, gini      ,  0.9854014598540146\n",
      "6, 10, entropy   ,  0.9635036496350365\n",
      "6, 20, gini      ,  0.9854014598540146\n",
      "6, 20, entropy   ,  0.9708029197080292\n",
      "8,  5, gini      ,  0.9781021897810219\n",
      "8,  5, entropy   ,  0.9708029197080292\n",
      "8, 10, gini      ,  0.9854014598540146\n",
      "8, 10, entropy   ,  0.9635036496350365\n",
      "8, 20, gini      ,  0.9854014598540146\n",
      "8, 20, entropy   ,  0.9708029197080292\n"
     ]
    }
   ],
   "source": [
    "accur=[]\n",
    "com_max=0\n",
    "x_train, x_test, y_train, y_test=train_test_split(X,Y,stratify=Y, random_state=2022,test_size=0.2)\n",
    "for i in range(len(m_depth)):\n",
    "    for j in range(len(ms_leap)):\n",
    "        for z in range(len(crit)):\n",
    "            \n",
    "            hyper_clf=DecisionTreeClassifier(max_depth=m_depth[i],min_samples_leaf=ms_leap[j],criterion=crit[z])\n",
    "            hyper_clf.fit(x_train,y_train)\n",
    "            resul_predic=hyper_clf.predict(x_test)\n",
    "            resul=accuracy_score(y_test,resul_predic)\n",
    "            accur.append(resul)\n",
    "            print(\"{0}, {1:2}, {2:10},{3:20}\".format(m_depth[i],ms_leap[j],crit[z],resul))\n",
    "            if com_max<=resul:\n",
    "                com_max=resul\n",
    "                depth_max=i\n",
    "                leap_max=j\n",
    "                crit_max=z\n",
    "            else:\n",
    "                pass"
   ]
  },
  {
   "cell_type": "code",
   "execution_count": 22,
   "id": "65bd11aa",
   "metadata": {},
   "outputs": [
    {
     "name": "stdout",
     "output_type": "stream",
     "text": [
      "When optimal hyperparameter is given as 8 , 20 , gini , the accuracy is a  0.9854014598540146\n"
     ]
    }
   ],
   "source": [
    "print(\"When optimal hyperparameter is given as\",m_depth[depth_max],\",\",ms_leap[leap_max],\",\",crit[crit_max],\", the accuracy is a \",com_max)"
   ]
  },
  {
   "cell_type": "code",
   "execution_count": 23,
   "id": "62b63a38",
   "metadata": {},
   "outputs": [
    {
     "data": {
      "text/plain": [
       "[Text(181.35000000000002, 190.26, 'X[1] <= 3.5\\ngini = 0.455\\nsamples = 546\\nvalue = [355, 191]'),\n",
       " Text(111.60000000000001, 135.9, 'X[5] <= 2.5\\ngini = 0.152\\nsamples = 375\\nvalue = [344, 31]'),\n",
       " Text(55.800000000000004, 81.53999999999999, 'X[4] <= 2.5\\ngini = 0.012\\nsamples = 325\\nvalue = [323, 2]'),\n",
       " Text(27.900000000000002, 27.180000000000007, 'gini = 0.0\\nsamples = 298\\nvalue = [298, 0]'),\n",
       " Text(83.7, 27.180000000000007, 'gini = 0.137\\nsamples = 27\\nvalue = [25, 2]'),\n",
       " Text(167.4, 81.53999999999999, 'X[2] <= 2.5\\ngini = 0.487\\nsamples = 50\\nvalue = [21, 29]'),\n",
       " Text(139.5, 27.180000000000007, 'gini = 0.365\\nsamples = 25\\nvalue = [19, 6]'),\n",
       " Text(195.3, 27.180000000000007, 'gini = 0.147\\nsamples = 25\\nvalue = [2, 23]'),\n",
       " Text(251.10000000000002, 135.9, 'X[1] <= 4.5\\ngini = 0.12\\nsamples = 171\\nvalue = [11, 160]'),\n",
       " Text(223.20000000000002, 81.53999999999999, 'gini = 0.353\\nsamples = 35\\nvalue = [8, 27]'),\n",
       " Text(279.0, 81.53999999999999, 'X[6] <= 4.5\\ngini = 0.043\\nsamples = 136\\nvalue = [3, 133]'),\n",
       " Text(251.10000000000002, 27.180000000000007, 'gini = 0.149\\nsamples = 37\\nvalue = [3, 34]'),\n",
       " Text(306.90000000000003, 27.180000000000007, 'gini = 0.0\\nsamples = 99\\nvalue = [0, 99]')]"
      ]
     },
     "execution_count": 23,
     "metadata": {},
     "output_type": "execute_result"
    },
    {
     "data": {
      "image/png": "[encoded data removed]",
      "text/plain": [
       "<Figure size 432x288 with 1 Axes>"
      ]
     },
     "metadata": {
      "needs_background": "light"
     },
     "output_type": "display_data"
    }
   ],
   "source": [
    "optimal_hyper_clf=DecisionTreeClassifier(max_depth=m_depth[depth_max],min_samples_leaf=ms_leap[leap_max],criterion=crit[crit_max])\n",
    "optimal_hyper_clf.fit(x_train,y_train)\n",
    "opt_predic=optimal_hyper_clf.predict(x_test)\n",
    "tree_test=accuracy_score(y_test, opt_predic)\n",
    "tree.plot_tree(optimal_hyper_clf,impurity=True, filled=True,\n",
    "               rounded=True)"
   ]
  },
  {
   "cell_type": "markdown",
   "id": "f6ec6e87",
   "metadata": {},
   "source": [
    "# problem2"
   ]
  },
  {
   "cell_type": "code",
   "execution_count": 24,
   "id": "22e64dfc",
   "metadata": {},
   "outputs": [],
   "source": [
    "df1=pd.read_csv(\"50_Startups.csv\")"
   ]
  },
  {
   "cell_type": "code",
   "execution_count": 25,
   "id": "07831af4",
   "metadata": {},
   "outputs": [
    {
     "data": {
      "text/html": [
       "<div>\n",
       "<style scoped>\n",
       "    .dataframe tbody tr th:only-of-type {\n",
       "        vertical-align: middle;\n",
       "    }\n",
       "\n",
       "    .dataframe tbody tr th {\n",
       "        vertical-align: top;\n",
       "    }\n",
       "\n",
       "    .dataframe thead th {\n",
       "        text-align: right;\n",
       "    }\n",
       "</style>\n",
       "<table border=\"1\" class=\"dataframe\">\n",
       "  <thead>\n",
       "    <tr style=\"text-align: right;\">\n",
       "      <th></th>\n",
       "      <th>R&amp;D Spend</th>\n",
       "      <th>Administration</th>\n",
       "      <th>Marketing Spend</th>\n",
       "      <th>State</th>\n",
       "      <th>Profit</th>\n",
       "    </tr>\n",
       "  </thead>\n",
       "  <tbody>\n",
       "    <tr>\n",
       "      <th>0</th>\n",
       "      <td>165349.20</td>\n",
       "      <td>136897.80</td>\n",
       "      <td>471784.10</td>\n",
       "      <td>New York</td>\n",
       "      <td>192261.83</td>\n",
       "    </tr>\n",
       "    <tr>\n",
       "      <th>1</th>\n",
       "      <td>162597.70</td>\n",
       "      <td>151377.59</td>\n",
       "      <td>443898.53</td>\n",
       "      <td>California</td>\n",
       "      <td>191792.06</td>\n",
       "    </tr>\n",
       "    <tr>\n",
       "      <th>2</th>\n",
       "      <td>153441.51</td>\n",
       "      <td>101145.55</td>\n",
       "      <td>407934.54</td>\n",
       "      <td>Florida</td>\n",
       "      <td>191050.39</td>\n",
       "    </tr>\n",
       "    <tr>\n",
       "      <th>3</th>\n",
       "      <td>144372.41</td>\n",
       "      <td>118671.85</td>\n",
       "      <td>383199.62</td>\n",
       "      <td>New York</td>\n",
       "      <td>182901.99</td>\n",
       "    </tr>\n",
       "    <tr>\n",
       "      <th>4</th>\n",
       "      <td>142107.34</td>\n",
       "      <td>91391.77</td>\n",
       "      <td>366168.42</td>\n",
       "      <td>Florida</td>\n",
       "      <td>166187.94</td>\n",
       "    </tr>\n",
       "  </tbody>\n",
       "</table>\n",
       "</div>"
      ],
      "text/plain": [
       "   R&D Spend  Administration  Marketing Spend       State     Profit\n",
       "0  165349.20       136897.80        471784.10    New York  192261.83\n",
       "1  162597.70       151377.59        443898.53  California  191792.06\n",
       "2  153441.51       101145.55        407934.54     Florida  191050.39\n",
       "3  144372.41       118671.85        383199.62    New York  182901.99\n",
       "4  142107.34        91391.77        366168.42     Florida  166187.94"
      ]
     },
     "execution_count": 25,
     "metadata": {},
     "output_type": "execute_result"
    }
   ],
   "source": [
    "df1.head()"
   ]
  },
  {
   "cell_type": "code",
   "execution_count": 26,
   "id": "dbfa146b",
   "metadata": {},
   "outputs": [],
   "source": [
    "X1=df1.drop([\"Profit\",\"State\"],axis=1)\n",
    "Y1=df1[\"Profit\"]"
   ]
  },
  {
   "cell_type": "code",
   "execution_count": 27,
   "id": "34510dc6",
   "metadata": {},
   "outputs": [],
   "source": [
    "dummy_state=pd.get_dummies(df1[\"State\"])"
   ]
  },
  {
   "cell_type": "code",
   "execution_count": 28,
   "id": "99a220ba",
   "metadata": {},
   "outputs": [
    {
     "data": {
      "text/html": [
       "<div>\n",
       "<style scoped>\n",
       "    .dataframe tbody tr th:only-of-type {\n",
       "        vertical-align: middle;\n",
       "    }\n",
       "\n",
       "    .dataframe tbody tr th {\n",
       "        vertical-align: top;\n",
       "    }\n",
       "\n",
       "    .dataframe thead th {\n",
       "        text-align: right;\n",
       "    }\n",
       "</style>\n",
       "<table border=\"1\" class=\"dataframe\">\n",
       "  <thead>\n",
       "    <tr style=\"text-align: right;\">\n",
       "      <th></th>\n",
       "      <th>California</th>\n",
       "      <th>Florida</th>\n",
       "      <th>New York</th>\n",
       "    </tr>\n",
       "  </thead>\n",
       "  <tbody>\n",
       "    <tr>\n",
       "      <th>0</th>\n",
       "      <td>0</td>\n",
       "      <td>0</td>\n",
       "      <td>1</td>\n",
       "    </tr>\n",
       "    <tr>\n",
       "      <th>1</th>\n",
       "      <td>1</td>\n",
       "      <td>0</td>\n",
       "      <td>0</td>\n",
       "    </tr>\n",
       "    <tr>\n",
       "      <th>2</th>\n",
       "      <td>0</td>\n",
       "      <td>1</td>\n",
       "      <td>0</td>\n",
       "    </tr>\n",
       "    <tr>\n",
       "      <th>3</th>\n",
       "      <td>0</td>\n",
       "      <td>0</td>\n",
       "      <td>1</td>\n",
       "    </tr>\n",
       "    <tr>\n",
       "      <th>4</th>\n",
       "      <td>0</td>\n",
       "      <td>1</td>\n",
       "      <td>0</td>\n",
       "    </tr>\n",
       "  </tbody>\n",
       "</table>\n",
       "</div>"
      ],
      "text/plain": [
       "   California  Florida  New York\n",
       "0           0        0         1\n",
       "1           1        0         0\n",
       "2           0        1         0\n",
       "3           0        0         1\n",
       "4           0        1         0"
      ]
     },
     "execution_count": 28,
     "metadata": {},
     "output_type": "execute_result"
    }
   ],
   "source": [
    "dummy_state.head()"
   ]
  },
  {
   "cell_type": "code",
   "execution_count": 29,
   "id": "2a0f46d5",
   "metadata": {},
   "outputs": [],
   "source": [
    "dummy_state.drop(columns='New York', inplace=True)"
   ]
  },
  {
   "cell_type": "code",
   "execution_count": 30,
   "id": "f1f6305c",
   "metadata": {},
   "outputs": [],
   "source": [
    "total=pd.concat([X1,dummy_state],axis=1)"
   ]
  },
  {
   "cell_type": "code",
   "execution_count": 31,
   "id": "46d0d9fe",
   "metadata": {},
   "outputs": [
    {
     "data": {
      "text/html": [
       "<div>\n",
       "<style scoped>\n",
       "    .dataframe tbody tr th:only-of-type {\n",
       "        vertical-align: middle;\n",
       "    }\n",
       "\n",
       "    .dataframe tbody tr th {\n",
       "        vertical-align: top;\n",
       "    }\n",
       "\n",
       "    .dataframe thead th {\n",
       "        text-align: right;\n",
       "    }\n",
       "</style>\n",
       "<table border=\"1\" class=\"dataframe\">\n",
       "  <thead>\n",
       "    <tr style=\"text-align: right;\">\n",
       "      <th></th>\n",
       "      <th>R&amp;D Spend</th>\n",
       "      <th>Administration</th>\n",
       "      <th>Marketing Spend</th>\n",
       "      <th>California</th>\n",
       "      <th>Florida</th>\n",
       "    </tr>\n",
       "  </thead>\n",
       "  <tbody>\n",
       "    <tr>\n",
       "      <th>0</th>\n",
       "      <td>165349.20</td>\n",
       "      <td>136897.80</td>\n",
       "      <td>471784.10</td>\n",
       "      <td>0</td>\n",
       "      <td>0</td>\n",
       "    </tr>\n",
       "    <tr>\n",
       "      <th>1</th>\n",
       "      <td>162597.70</td>\n",
       "      <td>151377.59</td>\n",
       "      <td>443898.53</td>\n",
       "      <td>1</td>\n",
       "      <td>0</td>\n",
       "    </tr>\n",
       "    <tr>\n",
       "      <th>2</th>\n",
       "      <td>153441.51</td>\n",
       "      <td>101145.55</td>\n",
       "      <td>407934.54</td>\n",
       "      <td>0</td>\n",
       "      <td>1</td>\n",
       "    </tr>\n",
       "    <tr>\n",
       "      <th>3</th>\n",
       "      <td>144372.41</td>\n",
       "      <td>118671.85</td>\n",
       "      <td>383199.62</td>\n",
       "      <td>0</td>\n",
       "      <td>0</td>\n",
       "    </tr>\n",
       "    <tr>\n",
       "      <th>4</th>\n",
       "      <td>142107.34</td>\n",
       "      <td>91391.77</td>\n",
       "      <td>366168.42</td>\n",
       "      <td>0</td>\n",
       "      <td>1</td>\n",
       "    </tr>\n",
       "  </tbody>\n",
       "</table>\n",
       "</div>"
      ],
      "text/plain": [
       "   R&D Spend  Administration  Marketing Spend  California  Florida\n",
       "0  165349.20       136897.80        471784.10           0        0\n",
       "1  162597.70       151377.59        443898.53           1        0\n",
       "2  153441.51       101145.55        407934.54           0        1\n",
       "3  144372.41       118671.85        383199.62           0        0\n",
       "4  142107.34        91391.77        366168.42           0        1"
      ]
     },
     "execution_count": 31,
     "metadata": {},
     "output_type": "execute_result"
    }
   ],
   "source": [
    "total.head()"
   ]
  },
  {
   "cell_type": "code",
   "execution_count": 32,
   "id": "4b489ca3",
   "metadata": {},
   "outputs": [
    {
     "data": {
      "text/html": [
       "<div>\n",
       "<style scoped>\n",
       "    .dataframe tbody tr th:only-of-type {\n",
       "        vertical-align: middle;\n",
       "    }\n",
       "\n",
       "    .dataframe tbody tr th {\n",
       "        vertical-align: top;\n",
       "    }\n",
       "\n",
       "    .dataframe thead th {\n",
       "        text-align: right;\n",
       "    }\n",
       "</style>\n",
       "<table border=\"1\" class=\"dataframe\">\n",
       "  <thead>\n",
       "    <tr style=\"text-align: right;\">\n",
       "      <th></th>\n",
       "      <th>R&amp;D Spend</th>\n",
       "      <th>Administration</th>\n",
       "      <th>Marketing Spend</th>\n",
       "      <th>California</th>\n",
       "      <th>Florida</th>\n",
       "      <th>intercept</th>\n",
       "    </tr>\n",
       "  </thead>\n",
       "  <tbody>\n",
       "    <tr>\n",
       "      <th>0</th>\n",
       "      <td>165349.20</td>\n",
       "      <td>136897.80</td>\n",
       "      <td>471784.10</td>\n",
       "      <td>0</td>\n",
       "      <td>0</td>\n",
       "      <td>1</td>\n",
       "    </tr>\n",
       "    <tr>\n",
       "      <th>1</th>\n",
       "      <td>162597.70</td>\n",
       "      <td>151377.59</td>\n",
       "      <td>443898.53</td>\n",
       "      <td>1</td>\n",
       "      <td>0</td>\n",
       "      <td>1</td>\n",
       "    </tr>\n",
       "    <tr>\n",
       "      <th>2</th>\n",
       "      <td>153441.51</td>\n",
       "      <td>101145.55</td>\n",
       "      <td>407934.54</td>\n",
       "      <td>0</td>\n",
       "      <td>1</td>\n",
       "      <td>1</td>\n",
       "    </tr>\n",
       "    <tr>\n",
       "      <th>3</th>\n",
       "      <td>144372.41</td>\n",
       "      <td>118671.85</td>\n",
       "      <td>383199.62</td>\n",
       "      <td>0</td>\n",
       "      <td>0</td>\n",
       "      <td>1</td>\n",
       "    </tr>\n",
       "    <tr>\n",
       "      <th>4</th>\n",
       "      <td>142107.34</td>\n",
       "      <td>91391.77</td>\n",
       "      <td>366168.42</td>\n",
       "      <td>0</td>\n",
       "      <td>1</td>\n",
       "      <td>1</td>\n",
       "    </tr>\n",
       "  </tbody>\n",
       "</table>\n",
       "</div>"
      ],
      "text/plain": [
       "   R&D Spend  Administration  Marketing Spend  California  Florida  intercept\n",
       "0  165349.20       136897.80        471784.10           0        0          1\n",
       "1  162597.70       151377.59        443898.53           1        0          1\n",
       "2  153441.51       101145.55        407934.54           0        1          1\n",
       "3  144372.41       118671.85        383199.62           0        0          1\n",
       "4  142107.34        91391.77        366168.42           0        1          1"
      ]
     },
     "execution_count": 32,
     "metadata": {},
     "output_type": "execute_result"
    }
   ],
   "source": [
    "total['intercept']=1\n",
    "total.head()"
   ]
  },
  {
   "cell_type": "code",
   "execution_count": 33,
   "id": "a3b5339d",
   "metadata": {},
   "outputs": [
    {
     "data": {
      "text/html": [
       "<div>\n",
       "<style scoped>\n",
       "    .dataframe tbody tr th:only-of-type {\n",
       "        vertical-align: middle;\n",
       "    }\n",
       "\n",
       "    .dataframe tbody tr th {\n",
       "        vertical-align: top;\n",
       "    }\n",
       "\n",
       "    .dataframe thead th {\n",
       "        text-align: right;\n",
       "    }\n",
       "</style>\n",
       "<table border=\"1\" class=\"dataframe\">\n",
       "  <thead>\n",
       "    <tr style=\"text-align: right;\">\n",
       "      <th></th>\n",
       "      <th>intercept</th>\n",
       "      <th>R&amp;D Spend</th>\n",
       "      <th>Administration</th>\n",
       "      <th>Marketing Spend</th>\n",
       "      <th>California</th>\n",
       "      <th>Florida</th>\n",
       "    </tr>\n",
       "  </thead>\n",
       "  <tbody>\n",
       "    <tr>\n",
       "      <th>0</th>\n",
       "      <td>1</td>\n",
       "      <td>165349.20</td>\n",
       "      <td>136897.80</td>\n",
       "      <td>471784.10</td>\n",
       "      <td>0</td>\n",
       "      <td>0</td>\n",
       "    </tr>\n",
       "    <tr>\n",
       "      <th>1</th>\n",
       "      <td>1</td>\n",
       "      <td>162597.70</td>\n",
       "      <td>151377.59</td>\n",
       "      <td>443898.53</td>\n",
       "      <td>1</td>\n",
       "      <td>0</td>\n",
       "    </tr>\n",
       "    <tr>\n",
       "      <th>2</th>\n",
       "      <td>1</td>\n",
       "      <td>153441.51</td>\n",
       "      <td>101145.55</td>\n",
       "      <td>407934.54</td>\n",
       "      <td>0</td>\n",
       "      <td>1</td>\n",
       "    </tr>\n",
       "    <tr>\n",
       "      <th>3</th>\n",
       "      <td>1</td>\n",
       "      <td>144372.41</td>\n",
       "      <td>118671.85</td>\n",
       "      <td>383199.62</td>\n",
       "      <td>0</td>\n",
       "      <td>0</td>\n",
       "    </tr>\n",
       "    <tr>\n",
       "      <th>4</th>\n",
       "      <td>1</td>\n",
       "      <td>142107.34</td>\n",
       "      <td>91391.77</td>\n",
       "      <td>366168.42</td>\n",
       "      <td>0</td>\n",
       "      <td>1</td>\n",
       "    </tr>\n",
       "  </tbody>\n",
       "</table>\n",
       "</div>"
      ],
      "text/plain": [
       "   intercept  R&D Spend  Administration  Marketing Spend  California  Florida\n",
       "0          1  165349.20       136897.80        471784.10           0        0\n",
       "1          1  162597.70       151377.59        443898.53           1        0\n",
       "2          1  153441.51       101145.55        407934.54           0        1\n",
       "3          1  144372.41       118671.85        383199.62           0        0\n",
       "4          1  142107.34        91391.77        366168.42           0        1"
      ]
     },
     "execution_count": 33,
     "metadata": {},
     "output_type": "execute_result"
    }
   ],
   "source": [
    "first_column=total.pop('intercept')\n",
    "total.insert(0,'intercept',first_column)\n",
    "total.head()"
   ]
  },
  {
   "cell_type": "code",
   "execution_count": 34,
   "id": "0f8c0f1c",
   "metadata": {},
   "outputs": [],
   "source": [
    "x1_train, x1_test, y1_train, y1_test=train_test_split(total,Y1, random_state=2022,test_size=0.2)"
   ]
  },
  {
   "cell_type": "code",
   "execution_count": 35,
   "id": "1690591b",
   "metadata": {},
   "outputs": [],
   "source": [
    "array_x1_train=np.array(x1_train)\n",
    "array_x1_test=np.array(x1_test)\n",
    "array_y1_train=np.array(y1_train)\n",
    "array_y1_test=np.array(y1_test)"
   ]
  },
  {
   "cell_type": "code",
   "execution_count": 36,
   "id": "6c26b476",
   "metadata": {},
   "outputs": [],
   "source": [
    "array_x1_train_trans=array_x1_train.T"
   ]
  },
  {
   "cell_type": "code",
   "execution_count": 37,
   "id": "1c412bb3",
   "metadata": {},
   "outputs": [],
   "source": [
    "middle_cal=np.linalg.pinv(np.matmul(array_x1_train_trans,array_x1_train))"
   ]
  },
  {
   "cell_type": "code",
   "execution_count": 38,
   "id": "a87b1dfc",
   "metadata": {},
   "outputs": [],
   "source": [
    "middle_cal1=np.matmul(middle_cal,array_x1_train_trans)"
   ]
  },
  {
   "cell_type": "code",
   "execution_count": 39,
   "id": "3934d023",
   "metadata": {},
   "outputs": [],
   "source": [
    "coefficient=np.matmul(middle_cal1,array_y1_train)"
   ]
  },
  {
   "cell_type": "markdown",
   "id": "5eb044f5",
   "metadata": {},
   "source": [
    "# number2. coefficient"
   ]
  },
  {
   "cell_type": "code",
   "execution_count": 40,
   "id": "44fa5e50",
   "metadata": {},
   "outputs": [
    {
     "name": "stdout",
     "output_type": "stream",
     "text": [
      "[ 5.12702828e+04  8.11987369e-01 -3.26380848e-02  1.40344372e-02\n",
      "  4.68145843e+03  2.69837268e+03]\n"
     ]
    }
   ],
   "source": [
    "print(coefficient)"
   ]
  },
  {
   "cell_type": "code",
   "execution_count": 41,
   "id": "8f52af39",
   "metadata": {},
   "outputs": [
    {
     "data": {
      "text/plain": [
       "(6,)"
      ]
     },
     "execution_count": 41,
     "metadata": {},
     "output_type": "execute_result"
    }
   ],
   "source": [
    "coefficient.shape"
   ]
  },
  {
   "cell_type": "code",
   "execution_count": 42,
   "id": "d58489fd",
   "metadata": {},
   "outputs": [],
   "source": [
    "comp_y=np.matmul(array_x1_test,coefficient)"
   ]
  },
  {
   "cell_type": "code",
   "execution_count": 43,
   "id": "1111e9f4",
   "metadata": {},
   "outputs": [],
   "source": [
    "MSE=np.square(np.subtract(comp_y,array_y1_test)).mean()"
   ]
  },
  {
   "cell_type": "code",
   "execution_count": 44,
   "id": "3616cf6c",
   "metadata": {},
   "outputs": [
    {
     "name": "stdout",
     "output_type": "stream",
     "text": [
      "[ 52767.59257427  68144.13169881  60201.92753167 170003.62532335\n",
      " 156831.27144208 162245.93897475  88741.62475194  74085.54482308\n",
      " 159564.6958025   50021.62328736]\n"
     ]
    }
   ],
   "source": [
    "print(comp_y)"
   ]
  },
  {
   "cell_type": "code",
   "execution_count": 45,
   "id": "bc44d6b5",
   "metadata": {},
   "outputs": [
    {
     "name": "stdout",
     "output_type": "stream",
     "text": [
      "[ 14681.4   81229.06  69758.98 182901.99 149759.96 156122.51  96479.51\n",
      "  71498.49 155752.6   35673.41]\n"
     ]
    }
   ],
   "source": [
    "print(array_y1_test)"
   ]
  },
  {
   "cell_type": "code",
   "execution_count": 46,
   "id": "52d08a82",
   "metadata": {},
   "outputs": [
    {
     "name": "stdout",
     "output_type": "stream",
     "text": [
      "225394932.43020135\n"
     ]
    }
   ],
   "source": [
    "print(MSE)"
   ]
  },
  {
   "cell_type": "code",
   "execution_count": null,
   "id": "fd84f7a6",
   "metadata": {},
   "outputs": [],
   "source": []
  },
  {
   "cell_type": "code",
   "execution_count": null,
   "id": "8c1be452",
   "metadata": {},
   "outputs": [],
   "source": []
  }
 ],
 "metadata": {
  "kernelspec": {
   "display_name": "Python 3 (ipykernel)",
   "language": "python",
   "name": "python3"
  },
  "language_info": {
   "codemirror_mode": {
    "name": "ipython",
    "version": 3
   },
   "file_extension": ".py",
   "mimetype": "text/x-python",
   "name": "python",
   "nbconvert_exporter": "python",
   "pygments_lexer": "ipython3",
   "version": "3.9.7"
  }
 },
 "nbformat": 4,
 "nbformat_minor": 5
}
